{
 "cells": [
  {
   "cell_type": "markdown",
   "metadata": {},
   "source": [
    "https://github.com/thomasstxyz/fhb-mcce-aktt1-teja-python-assign1/blob/main/notebooks/aktt1-teja-assignment2.ipynb"
   ]
  },
  {
   "cell_type": "markdown",
   "metadata": {},
   "source": [
    "# Assignment 2\n",
    "\n",
    "This assignment is related to the attached file:\n",
    "\n",
    "“healthcare-dataset-stroke-data.csv”\n",
    "\n",
    "(Source: Kaggle https://www.kaggle.com/datasets/fedesoriano/stroke-prediction-dataset ).\n",
    "\n",
    "Use pandas /and or numpy, if needed) for finding answers to the following questions. Plot graphs wherever relevant:\n",
    "\n",
    "- In the given dataset, what is the percentage (of all the persons in the dataset) of 70 years old or older who suffered a stroke?\n",
    "- In the given dataset, what is the percentage (of all the persons in the dataset) of 70 years old or older who suffered a stroke and are smokers / former smokers?\n",
    "- What percentage of those who suffered a stroke have “avg_glucose_level” at least 20% above the mean value of the entire dataset?\n",
    "- Are all age groups equally represented in this dataset?\n",
    "\n",
    "Note: Do not change the data in the original file. Any data you might want to change, change it in the dataframe after importing the CSV file.\n",
    "\n",
    "Please submit your Jupyter notebook with the code AND a PDF file showing the results of the executed code."
   ]
  },
  {
   "cell_type": "code",
   "execution_count": 1,
   "metadata": {},
   "outputs": [],
   "source": [
    "import pandas as pd\n",
    "from datetime import date\n",
    "from datetime import datetime"
   ]
  },
  {
   "cell_type": "code",
   "execution_count": 2,
   "metadata": {},
   "outputs": [],
   "source": [
    "data = pd.read_csv(\"files/healthcare-dataset-stroke-data.csv\", sep=',')"
   ]
  },
  {
   "cell_type": "code",
   "execution_count": 3,
   "metadata": {},
   "outputs": [],
   "source": [
    "def percentage(part, whole):\n",
    "  return 100 * float(part)/float(whole)"
   ]
  },
  {
   "cell_type": "markdown",
   "metadata": {},
   "source": [
    "## Q1: In the given dataset, what is the percentage (of all the persons in the dataset) of 70 years old or older who suffered a stroke?"
   ]
  },
  {
   "cell_type": "code",
   "execution_count": 4,
   "metadata": {},
   "outputs": [
    {
     "name": "stdout",
     "output_type": "stream",
     "text": [
      "The percentage of persons who are over 70 years old and suffered a stroke is 2.5%.\n"
     ]
    }
   ],
   "source": [
    "x = data.query('age > 70 and stroke == 1')\n",
    "x = percentage(len(x), len(data))\n",
    "x = round(x, 2)\n",
    "\n",
    "print(f'The percentage of persons who are over 70 years old and suffered a stroke is {x}%.')"
   ]
  },
  {
   "cell_type": "markdown",
   "metadata": {},
   "source": [
    "## Q2: In the given dataset, what is the percentage (of all the persons in the dataset) of 70 years old or older who suffered a stroke and are smokers / former smokers?"
   ]
  },
  {
   "cell_type": "code",
   "execution_count": 5,
   "metadata": {},
   "outputs": [
    {
     "name": "stdout",
     "output_type": "stream",
     "text": [
      "The percentage of persons who are over 70 years old and suffered a stroke and formerly smoked or still smoke is 1.0%.\n"
     ]
    }
   ],
   "source": [
    "x = data.query('age >= 70 and stroke == 1 and (smoking_status == \"formerly smoked\" or smoking_status == \"smokes\")')\n",
    "x = percentage(len(x), len(data))\n",
    "x = round(x, 2)\n",
    "\n",
    "print(f'The percentage of persons who are over 70 years old and suffered a stroke and formerly smoked or still smoke is {x}%.')"
   ]
  },
  {
   "cell_type": "markdown",
   "metadata": {},
   "source": [
    "## Q3: What percentage of those who suffered a stroke have “avg_glucose_level” at least 20% above the mean value of the entire dataset?"
   ]
  },
  {
   "cell_type": "code",
   "execution_count": 6,
   "metadata": {},
   "outputs": [
    {
     "name": "stdout",
     "output_type": "stream",
     "text": [
      "The percentage of persons who suffered a stroke and have \"avg_glucose_level\" at least 20% above the mean is 39.76%.\n"
     ]
    }
   ],
   "source": [
    "avg_glucose_level__mean = data['avg_glucose_level'].mean()\n",
    "twenty_percent_above_mean = avg_glucose_level__mean * 1.2\n",
    "\n",
    "stroke_data = data[data['stroke'] == 1]\n",
    "\n",
    "x = stroke_data[stroke_data['avg_glucose_level'] >= twenty_percent_above_mean]\n",
    "x = percentage(len(x), len(stroke_data))\n",
    "x = round(x, 2)\n",
    "\n",
    "print(f'The percentage of persons who suffered a stroke and have \"avg_glucose_level\" at least 20% above the mean is {x}%.')"
   ]
  },
  {
   "cell_type": "markdown",
   "metadata": {},
   "source": [
    "## Q4: Are all age groups equally represented in this dataset?"
   ]
  },
  {
   "cell_type": "code",
   "execution_count": 7,
   "metadata": {},
   "outputs": [
    {
     "name": "stdout",
     "output_type": "stream",
     "text": [
      "No, all age groups are not equally represented in this dataset, as you see in the histogram.\n"
     ]
    },
    {
     "data": {
      "text/plain": [
       "array([[<AxesSubplot: title={'center': 'age'}>]], dtype=object)"
      ]
     },
     "execution_count": 7,
     "metadata": {},
     "output_type": "execute_result"
    },
    {
     "data": {
      "image/png": "[encoded data removed]",
      "text/plain": [
       "<Figure size 640x480 with 1 Axes>"
      ]
     },
     "metadata": {},
     "output_type": "display_data"
    }
   ],
   "source": [
    "print(f'No, all age groups are not equally represented in this dataset, as you see in the histogram.')\n",
    "\n",
    "data.hist(column='age', bins=20)"
   ]
  },
  {
   "cell_type": "markdown",
   "metadata": {},
   "source": [
    "## Additional evaluation of question 4"
   ]
  },
  {
   "cell_type": "code",
   "execution_count": 8,
   "metadata": {},
   "outputs": [
    {
     "name": "stdout",
     "output_type": "stream",
     "text": [
      "The age group \"children\" with 699 persons (age <= 14) makes up 13.68% of all persons in this dataset.\n",
      "The age group \"teenagers\" with 537 persons (15 <= age <= 24) makes up 10.51% of all persons in this dataset.\n",
      "The age group \"adults\" with 2847 persons (25 <= age <= 64) makes up 55.71% of all persons in this dataset.\n",
      "The age group \"seniors\" with 1027 persons (age >= 65) makes up 20.1% of all persons in this dataset.\n"
     ]
    }
   ],
   "source": [
    "age_groups = [\n",
    "  {'name': 'children', 'age_range': 'age <= 14'},\n",
    "  {'name': 'teenagers', 'age_range': '15 <= age <= 24'},\n",
    "  {'name': 'adults', 'age_range': '25 <= age <= 64'},\n",
    "  {'name': 'seniors', 'age_range': 'age >= 65'},\n",
    "]\n",
    "\n",
    "for idx, age_group in enumerate(age_groups):\n",
    "    x = data.query(str(age_groups[idx]['age_range']))\n",
    "    age_groups[idx].update({'person_count': len(x)})\n",
    "    x = percentage(len(x), len(data))\n",
    "    x = round(x, 2)\n",
    "    age_groups[idx].update({'percentage': x})\n",
    "\n",
    "    print(f'The age group \"{age_groups[idx][\"name\"]}\" with {age_groups[idx][\"person_count\"]} persons ({age_groups[idx][\"age_range\"]}) makes up {age_groups[idx][\"percentage\"]}% of all persons in this dataset.')"
   ]
  }
 ],
 "metadata": {
  "kernelspec": {
   "display_name": "Python 3 (ipykernel)",
   "language": "python",
   "name": "python3"
  },
  "language_info": {
   "codemirror_mode": {
    "name": "ipython",
    "version": 3
   },
   "file_extension": ".py",
   "mimetype": "text/x-python",
   "name": "python",
   "nbconvert_exporter": "python",
   "pygments_lexer": "ipython3",
   "version": "3.10.6"
  },
  "vscode": {
   "interpreter": {
    "hash": "b0fa6594d8f4cbf19f97940f81e996739fb7646882a419484c72d19e05852a7e"
   }
  }
 },
 "nbformat": 4,
 "nbformat_minor": 2
}
