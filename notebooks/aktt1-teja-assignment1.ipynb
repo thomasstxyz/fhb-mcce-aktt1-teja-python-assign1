{
 "cells": [
  {
   "cell_type": "markdown",
   "id": "98bc1768",
   "metadata": {},
   "source": [
    "# Assignment 1\n",
    "\n",
    "This assignment is related to the attached file: “AT employer enterprise births 2007-2018.csv” (Source: Statistik Austria).\n",
    "Write Python functions for finding answers to the following questions:\n",
    "\n",
    "- Which industry recorded the highest number of enterprise births?\n",
    "- Was there an industry in which no enterprise births were recorded? If, yes, which industry was it (list all such industries)?\n",
    "- Was there an industry or industries in which consistently increasing number of enterprise births were recorded? If, yes, list all such industries.\n",
    "- Which industry recorded the highest average number of enterprise births year-on-year?\n"
   ]
  },
  {
   "cell_type": "markdown",
   "id": "1c899e6d",
   "metadata": {},
   "source": [
    "## Read CSV file"
   ]
  },
  {
   "cell_type": "code",
   "execution_count": 19,
   "id": "0f319ccc",
   "metadata": {},
   "outputs": [],
   "source": [
    "import csv\n",
    "\n",
    "file = 'files/AT employer enterprise births 2007-2018.csv'\n",
    "f = open(file, mode='r', encoding='latin-1')"
   ]
  },
  {
   "cell_type": "markdown",
   "id": "a9b05607",
   "metadata": {},
   "source": [
    "## Initialize Variables"
   ]
  },
  {
   "cell_type": "code",
   "execution_count": 20,
   "id": "f3220176",
   "metadata": {},
   "outputs": [],
   "source": [
    "births_list = []\n",
    "DictReader_obj = {}"
   ]
  },
  {
   "cell_type": "markdown",
   "id": "6653dbf0",
   "metadata": {},
   "source": [
    "## Read data into python object"
   ]
  },
  {
   "cell_type": "code",
   "execution_count": 21,
   "id": "9dac9f8f",
   "metadata": {},
   "outputs": [],
   "source": [
    "DictReader_obj = csv.DictReader(f, delimiter=';')"
   ]
  },
  {
   "cell_type": "markdown",
   "id": "53cecd16",
   "metadata": {},
   "source": [
    "## Q1: Which industry recorded the highest number of enterprise births?"
   ]
  },
  {
   "cell_type": "code",
   "execution_count": 22,
   "id": "fa6e6661",
   "metadata": {},
   "outputs": [
    {
     "name": "stdout",
     "output_type": "stream",
     "text": [
      "\n",
      "Q1 Answer:\n",
      "The industry with the highest number of enterprise births from 2007 - 2018 is:\n",
      "'Food and beverage service activities  ' with a number of 33732.\n",
      "\n"
     ]
    }
   ],
   "source": [
    "for row in DictReader_obj:\n",
    "    total = 0\n",
    "\n",
    "    births_yearly = list(row.values())[2:]\n",
    "\n",
    "    for item in births_yearly:\n",
    "        item = item.replace(',','')  # remove thousands separator\n",
    "        total += float(item)\n",
    "\n",
    "    births = {'industry': row['Industry sections and divisions'], 'births': round(total)}\n",
    "    births_list.append(births)        \n",
    "\n",
    "\n",
    "max_births_industry = max(births_list, key=lambda x:x['births'])\n",
    "\n",
    "print(f\"\"\"\n",
    "Q1 Answer:\n",
    "The industry with the highest number of enterprise births from 2007 - 2018 is:\n",
    "'{max_births_industry['industry']}' with a number of {max_births_industry['births']}.\n",
    "\"\"\")"
   ]
  },
  {
   "cell_type": "markdown",
   "id": "faae5180",
   "metadata": {},
   "source": [
    "## Was there an industry in which no enterprise births were recorded? If, yes, which industry was it (list all such industries)?"
   ]
  },
  {
   "cell_type": "code",
   "execution_count": null,
   "id": "105c238e",
   "metadata": {},
   "outputs": [],
   "source": []
  },
  {
   "cell_type": "markdown",
   "id": "b234576a",
   "metadata": {},
   "source": [
    "## Close file"
   ]
  },
  {
   "cell_type": "code",
   "execution_count": 18,
   "id": "5db3714a",
   "metadata": {},
   "outputs": [],
   "source": [
    "f.close()"
   ]
  },
  {
   "cell_type": "code",
   "execution_count": null,
   "id": "c28ef1ab",
   "metadata": {},
   "outputs": [],
   "source": []
  }
 ],
 "metadata": {
  "kernelspec": {
   "display_name": "Python 3 (ipykernel)",
   "language": "python",
   "name": "python3"
  },
  "language_info": {
   "codemirror_mode": {
    "name": "ipython",
    "version": 3
   },
   "file_extension": ".py",
   "mimetype": "text/x-python",
   "name": "python",
   "nbconvert_exporter": "python",
   "pygments_lexer": "ipython3",
   "version": "3.9.12"
  },
  "vscode": {
   "interpreter": {
    "hash": "b0fa6594d8f4cbf19f97940f81e996739fb7646882a419484c72d19e05852a7e"
   }
  }
 },
 "nbformat": 4,
 "nbformat_minor": 5
}
