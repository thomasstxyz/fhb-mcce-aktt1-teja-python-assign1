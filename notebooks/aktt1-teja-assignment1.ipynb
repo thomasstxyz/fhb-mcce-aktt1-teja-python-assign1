{
 "cells": [
  {
   "cell_type": "markdown",
   "id": "b0b1fe88",
   "metadata": {},
   "source": [
    "https://github.com/thomasstxyz/fhb-mcce-aktt1-teja-python-assign1/blob/main/notebooks/aktt1-teja-assignment1.ipynb"
   ]
  },
  {
   "cell_type": "markdown",
   "id": "98bc1768",
   "metadata": {},
   "source": [
    "# Assignment 1\n",
    "\n",
    "This assignment is related to the attached file: “AT employer enterprise births 2007-2018.csv” (Source: Statistik Austria).\n",
    "Write Python functions for finding answers to the following questions:\n",
    "\n",
    "- Which industry recorded the highest number of enterprise births?\n",
    "- Was there an industry in which no enterprise births were recorded? If, yes, which industry was it (list all such industries)?\n",
    "- Was there an industry or industries in which consistently increasing number of enterprise births were recorded? If, yes, list all such industries.\n",
    "- Which industry recorded the highest average number of enterprise births year-on-year?\n"
   ]
  },
  {
   "cell_type": "markdown",
   "id": "98db1842",
   "metadata": {},
   "source": [
    "## input vars"
   ]
  },
  {
   "cell_type": "code",
   "execution_count": 1,
   "id": "f764c2d4",
   "metadata": {},
   "outputs": [],
   "source": [
    "input_file = \"files/AT employer enterprise births 2007-2018.csv\""
   ]
  },
  {
   "cell_type": "markdown",
   "id": "6c6a04f9",
   "metadata": {},
   "source": [
    "## Read input data into list of dicts"
   ]
  },
  {
   "cell_type": "code",
   "execution_count": 2,
   "id": "c995a2fd",
   "metadata": {},
   "outputs": [],
   "source": [
    "list_of_dict = []\n",
    "\n",
    "from csv import DictReader\n",
    "# open file in read mode\n",
    "with open(input_file, 'r', encoding='latin-1') as f:\n",
    "\t\n",
    "\tdict_reader = DictReader(f, delimiter=';')\n",
    "\t\n",
    "\tlist_of_dict = list(dict_reader)"
   ]
  },
  {
   "cell_type": "markdown",
   "id": "537de14a",
   "metadata": {},
   "source": [
    "## Q1: Which industry recorded the highest number of enterprise births?"
   ]
  },
  {
   "cell_type": "code",
   "execution_count": 3,
   "id": "5614daf8",
   "metadata": {},
   "outputs": [
    {
     "name": "stdout",
     "output_type": "stream",
     "text": [
      "The industry which recorded the highest number of enterprise births is:  Food and beverage service activities   with a number of:  33732\n"
     ]
    }
   ],
   "source": [
    "# for each industry\n",
    "for idx, dict_item in enumerate(list_of_dict):\n",
    "    # create list with enterprise births (select columns with headers 'Enterprise births')\n",
    "    d = {key: value for (key, value) in dict_item.items() if 'Enterprise births' in key}\n",
    "    number_of_enterprise_births__list = list(d.values())\n",
    "\n",
    "    # remove thousands separator ',' comma\n",
    "    number_of_enterprise_births__list = [x.replace(',','') for x in number_of_enterprise_births__list]\n",
    "\n",
    "    # convert values to int type\n",
    "    number_of_enterprise_births__list = [int(x) for x in number_of_enterprise_births__list]\n",
    "\n",
    "    # create total number of enterprise births by summing up values of all years\n",
    "    total_number_of_enterprise_births = sum(number_of_enterprise_births__list)\n",
    "\n",
    "    # print(total_number_of_enterprise_births)\n",
    "\n",
    "    list_of_dict[idx].update({'total_number_of_enterprise_births': total_number_of_enterprise_births})\n",
    "\n",
    "    # for Q3:\n",
    "    if sorted(number_of_enterprise_births__list) == number_of_enterprise_births__list and list_of_dict[idx]['total_number_of_enterprise_births'] != 0:\n",
    "        list_of_dict[idx].update({'number_of_enterprise_births_is_ascending': True})\n",
    "    else:\n",
    "        list_of_dict[idx].update({'number_of_enterprise_births_is_ascending': False})\n",
    "\n",
    "    # for Q4:\n",
    "    average_number_of_enterprise_births = int(total_number_of_enterprise_births / len(number_of_enterprise_births__list))\n",
    "    list_of_dict[idx].update({'average_number_of_enterprise_births': average_number_of_enterprise_births})\n",
    "\n",
    "\n",
    "# get industry with highest number\n",
    "industry_with_highest_number_of_enterprise_births = max(list_of_dict, key=lambda x:x['total_number_of_enterprise_births'])\n",
    "\n",
    "print('The industry which recorded the highest number of enterprise births is: ', industry_with_highest_number_of_enterprise_births['Industry sections and divisions'],\n",
    "    'with a number of: ', industry_with_highest_number_of_enterprise_births['total_number_of_enterprise_births'])"
   ]
  },
  {
   "cell_type": "markdown",
   "id": "594765fd",
   "metadata": {},
   "source": [
    "## Q2: Was there an industry in which no enterprise births were recorded? If, yes, which industry was it (list all such industries)?"
   ]
  },
  {
   "cell_type": "code",
   "execution_count": 4,
   "id": "d691ebc3",
   "metadata": {},
   "outputs": [
    {
     "name": "stdout",
     "output_type": "stream",
     "text": [
      "The following industries had no enterprise births recorded:\n",
      "- Mining of coal and lignite  \n",
      "- Extraction of crude petroleum and natural gas  \n",
      "- Manufacture of tobacco products  \n"
     ]
    }
   ],
   "source": [
    "print('The following industries had no enterprise births recorded:')\n",
    "\n",
    "for idx, dict_item in enumerate(list_of_dict):\n",
    "    if list_of_dict[idx]['total_number_of_enterprise_births'] == 0:\n",
    "        print('-', list_of_dict[idx]['Industry sections and divisions'])"
   ]
  },
  {
   "cell_type": "markdown",
   "id": "c5c16259",
   "metadata": {},
   "source": [
    "## Q3: Was there an industry or industries in which consistently increasing number of enterprise births were recorded? If, yes, list all such industries."
   ]
  },
  {
   "cell_type": "code",
   "execution_count": 5,
   "id": "faa43074",
   "metadata": {},
   "outputs": [
    {
     "name": "stdout",
     "output_type": "stream",
     "text": [
      "There are no industries which had consistently increasing number of enterprise births.\n"
     ]
    }
   ],
   "source": [
    "if any(item['number_of_enterprise_births_is_ascending'] == True for item in list_of_dict):\n",
    "    print('The following industries had consistently increasing number of enterprise births:')\n",
    "\n",
    "    for idx, dict_item in enumerate(list_of_dict):\n",
    "        if list_of_dict[idx]['number_of_enterprise_births_is_ascending']:\n",
    "            print('-', list_of_dict[idx]['Industry sections and divisions'])\n",
    "else:\n",
    "    print('There are no industries which had consistently increasing number of enterprise births.')"
   ]
  },
  {
   "cell_type": "markdown",
   "id": "81824ca9",
   "metadata": {},
   "source": [
    "## Q4: Which industry recorded the highest average number of enterprise births year-on-year?"
   ]
  },
  {
   "cell_type": "code",
   "execution_count": 6,
   "id": "a13017e6",
   "metadata": {},
   "outputs": [
    {
     "name": "stdout",
     "output_type": "stream",
     "text": [
      "The industry which recorded the highest average number of enterprise births is:  Food and beverage service activities   with a number of:  2811\n"
     ]
    }
   ],
   "source": [
    "industry_with_highest_average_number_of_enterprise_births = max(list_of_dict, key=lambda x:x['average_number_of_enterprise_births'])\n",
    "\n",
    "print('The industry which recorded the highest average number of enterprise births is: ', industry_with_highest_average_number_of_enterprise_births['Industry sections and divisions'],\n",
    "    'with a number of: ', industry_with_highest_average_number_of_enterprise_births['average_number_of_enterprise_births'])"
   ]
  }
 ],
 "metadata": {
  "kernelspec": {
   "display_name": "Python 3 (ipykernel)",
   "language": "python",
   "name": "python3"
  },
  "language_info": {
   "codemirror_mode": {
    "name": "ipython",
    "version": 3
   },
   "file_extension": ".py",
   "mimetype": "text/x-python",
   "name": "python",
   "nbconvert_exporter": "python",
   "pygments_lexer": "ipython3",
   "version": "3.9.12"
  },
  "vscode": {
   "interpreter": {
    "hash": "b0fa6594d8f4cbf19f97940f81e996739fb7646882a419484c72d19e05852a7e"
   }
  }
 },
 "nbformat": 4,
 "nbformat_minor": 5
}
