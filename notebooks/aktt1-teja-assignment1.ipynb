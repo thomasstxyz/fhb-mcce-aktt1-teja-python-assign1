{
 "cells": [
  {
   "cell_type": "markdown",
   "id": "98bc1768",
   "metadata": {},
   "source": [
    "# Assignment 1\n",
    "\n",
    "This assignment is related to the attached file: “AT employer enterprise births 2007-2018.csv” (Source: Statistik Austria).\n",
    "Write Python functions for finding answers to the following questions:\n",
    "\n",
    "- Which industry recorded the highest number of enterprise births?\n",
    "- Was there an industry in which no enterprise births were recorded? If, yes, which industry was it (list all such industries)?\n",
    "- Was there an industry or industries in which consistently increasing number of enterprise births were recorded? If, yes, list all such industries.\n",
    "- Which industry recorded the highest average number of enterprise births year-on-year?\n"
   ]
  },
  {
   "cell_type": "markdown",
   "id": "53cecd16",
   "metadata": {},
   "source": [
    "## Which industry recorded the highest number of enterprise births?"
   ]
  },
  {
   "cell_type": "code",
   "execution_count": 2,
   "id": "fa6e6661",
   "metadata": {},
   "outputs": [
    {
     "name": "stdout",
     "output_type": "stream",
     "text": [
      "\n",
      "The industry with the highest number of enterprise births from 2007 - 2018 is:\n",
      "'Food and beverage service activities  ' with a number of 33732.\n",
      "\n"
     ]
    }
   ],
   "source": [
    "import csv\n",
    "\n",
    "births_list = []\n",
    "\n",
    "file = 'files/AT employer enterprise births 2007-2018.csv'\n",
    "with open(file, encoding='latin-1') as f:\n",
    "\n",
    "    DictReader_obj = csv.DictReader(f, delimiter=';')\n",
    "\n",
    "    for row in DictReader_obj:\n",
    "        total = 0\n",
    "                \n",
    "        births_yearly = list(row.values())[2:]\n",
    "        \n",
    "        for item in births_yearly:\n",
    "            item = item.replace(',','')  # remove thousands separator\n",
    "            total += float(item)\n",
    "        \n",
    "        births = {'industry': row['Industry sections and divisions'], 'births': round(total)}\n",
    "        births_list.append(births)        \n",
    "\n",
    "        \n",
    "max_births_industry = max(births_list, key=lambda x:x['births'])\n",
    "\n",
    "print(f\"\"\"\n",
    "The industry with the highest number of enterprise births from 2007 - 2018 is:\n",
    "'{max_births_industry['industry']}' with a number of {max_births_industry['births']}.\n",
    "\"\"\")\n"
   ]
  },
  {
   "cell_type": "markdown",
   "id": "faae5180",
   "metadata": {},
   "source": [
    "## Was there an industry in which no enterprise births were recorded? If, yes, which industry was it (list all such industries)?"
   ]
  },
  {
   "cell_type": "code",
   "execution_count": null,
   "id": "105c238e",
   "metadata": {},
   "outputs": [],
   "source": []
  }
 ],
 "metadata": {
  "kernelspec": {
   "display_name": "Python 3 (ipykernel)",
   "language": "python",
   "name": "python3"
  },
  "language_info": {
   "codemirror_mode": {
    "name": "ipython",
    "version": 3
   },
   "file_extension": ".py",
   "mimetype": "text/x-python",
   "name": "python",
   "nbconvert_exporter": "python",
   "pygments_lexer": "ipython3",
   "version": "3.9.12"
  },
  "vscode": {
   "interpreter": {
    "hash": "b0fa6594d8f4cbf19f97940f81e996739fb7646882a419484c72d19e05852a7e"
   }
  }
 },
 "nbformat": 4,
 "nbformat_minor": 5
}
