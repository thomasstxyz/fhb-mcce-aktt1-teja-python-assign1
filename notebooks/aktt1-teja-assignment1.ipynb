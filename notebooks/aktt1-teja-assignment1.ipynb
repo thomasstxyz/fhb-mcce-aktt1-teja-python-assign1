{
 "cells": [
  {
   "cell_type": "markdown",
   "id": "98bc1768",
   "metadata": {},
   "source": [
    "# Assignment 1\n",
    "\n",
    "This assignment is related to the attached file: “AT employer enterprise births 2007-2018.csv” (Source: Statistik Austria).\n",
    "Write Python functions for finding answers to the following questions:\n",
    "\n",
    "- Which industry recorded the highest number of enterprise births?\n",
    "- Was there an industry in which no enterprise births were recorded? If, yes, which industry was it (list all such industries)?\n",
    "- Was there an industry or industries in which consistently increasing number of enterprise births were recorded? If, yes, list all such industries.\n",
    "- Which industry recorded the highest average number of enterprise births year-on-year?\n"
   ]
  },
  {
   "cell_type": "markdown",
   "id": "1c899e6d",
   "metadata": {},
   "source": [
    "## Read CSV file"
   ]
  },
  {
   "cell_type": "code",
   "execution_count": 1,
   "id": "0f319ccc",
   "metadata": {},
   "outputs": [],
   "source": [
    "import csv\n",
    "\n",
    "file = 'files/AT employer enterprise births 2007-2018.csv'\n",
    "f = open(file, mode='r', encoding='latin-1')"
   ]
  },
  {
   "cell_type": "markdown",
   "id": "74d42432",
   "metadata": {},
   "source": [
    "## Initialize Variables"
   ]
  },
  {
   "cell_type": "code",
   "execution_count": 2,
   "id": "26b432b2",
   "metadata": {},
   "outputs": [],
   "source": [
    "births__list = []\n",
    "DictReader_obj = {}"
   ]
  },
  {
   "cell_type": "markdown",
   "id": "b6387617",
   "metadata": {},
   "source": [
    "## Read data into python object"
   ]
  },
  {
   "cell_type": "code",
   "execution_count": 3,
   "id": "63ad881d",
   "metadata": {},
   "outputs": [],
   "source": [
    "DictReader_obj = csv.DictReader(f, delimiter=';')"
   ]
  },
  {
   "cell_type": "markdown",
   "id": "aa4f4c62",
   "metadata": {},
   "source": [
    "### Filter data"
   ]
  },
  {
   "cell_type": "code",
   "execution_count": 4,
   "id": "9644418c",
   "metadata": {},
   "outputs": [],
   "source": [
    "for industry in DictReader_obj:\n",
    "    total_enterprise_births = 0\n",
    "\n",
    "    enterprise_births_yearly__list = list(industry.values())[2:]\n",
    "\n",
    "    for item in enterprise_births_yearly__list:\n",
    "        item = item.replace(',','')  # remove thousands separator\n",
    "        total_enterprise_births += float(item)\n",
    "\n",
    "    births = {'industry': industry['Industry sections and divisions'], 'births': round(total_enterprise_births)}\n",
    "    births__list.append(births)        "
   ]
  },
  {
   "cell_type": "markdown",
   "id": "53cecd16",
   "metadata": {},
   "source": [
    "## Q1: Which industry recorded the highest number of enterprise births?"
   ]
  },
  {
   "cell_type": "code",
   "execution_count": 5,
   "id": "fa6e6661",
   "metadata": {},
   "outputs": [
    {
     "name": "stdout",
     "output_type": "stream",
     "text": [
      "\n",
      "The industry with the highest number of enterprise births from 2007 - 2018 is:\n",
      "'Food and beverage service activities  ' with a number of 33732.\n",
      "\n"
     ]
    }
   ],
   "source": [
    "max_births_industry = max(births__list, key=lambda x:x['births'])\n",
    "\n",
    "print(f\"\"\"\n",
    "The industry with the highest number of enterprise births from 2007 - 2018 is:\n",
    "'{max_births_industry['industry']}' with a number of {max_births_industry['births']}.\n",
    "\"\"\")"
   ]
  },
  {
   "cell_type": "markdown",
   "id": "faae5180",
   "metadata": {},
   "source": [
    "## Q2: Was there an industry in which no enterprise births were recorded? If, yes, which industry was it (list all such industries)?"
   ]
  },
  {
   "cell_type": "code",
   "execution_count": 6,
   "id": "105c238e",
   "metadata": {
    "scrolled": true
   },
   "outputs": [
    {
     "name": "stdout",
     "output_type": "stream",
     "text": [
      "Mining of coal and lignite   has 0 recorded enterprise births.\n",
      "Extraction of crude petroleum and natural gas   has 0 recorded enterprise births.\n",
      "Manufacture of tobacco products   has 0 recorded enterprise births.\n"
     ]
    }
   ],
   "source": [
    "for item in births__list:\n",
    "    if item['births'] == 0:\n",
    "        print(item['industry'], \"has 0 recorded enterprise births.\")"
   ]
  },
  {
   "cell_type": "markdown",
   "id": "cee72d86",
   "metadata": {},
   "source": [
    "## Q3: Was there an industry or industries in which consistently increasing number of enterprise births were recorded? If, yes, list all such industries."
   ]
  },
  {
   "cell_type": "code",
   "execution_count": null,
   "id": "9bf38338",
   "metadata": {},
   "outputs": [],
   "source": []
  },
  {
   "cell_type": "markdown",
   "id": "116e2ea1",
   "metadata": {},
   "source": [
    "## Close file"
   ]
  },
  {
   "cell_type": "code",
   "execution_count": 7,
   "id": "b2070a4e",
   "metadata": {},
   "outputs": [],
   "source": [
    "f.close()"
   ]
  },
  {
   "cell_type": "code",
   "execution_count": null,
   "id": "875fc772",
   "metadata": {},
   "outputs": [],
   "source": []
  }
 ],
 "metadata": {
  "kernelspec": {
   "display_name": "Python 3 (ipykernel)",
   "language": "python",
   "name": "python3"
  },
  "language_info": {
   "codemirror_mode": {
    "name": "ipython",
    "version": 3
   },
   "file_extension": ".py",
   "mimetype": "text/x-python",
   "name": "python",
   "nbconvert_exporter": "python",
   "pygments_lexer": "ipython3",
   "version": "3.9.12"
  },
  "vscode": {
   "interpreter": {
    "hash": "b0fa6594d8f4cbf19f97940f81e996739fb7646882a419484c72d19e05852a7e"
   }
  }
 },
 "nbformat": 4,
 "nbformat_minor": 5
}
